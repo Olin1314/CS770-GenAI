{
 "cells": [
  {
   "cell_type": "markdown",
   "id": "cb5cff78",
   "metadata": {},
   "source": [
    "# Generating Text Using HMMs"
   ]
  },
  {
   "cell_type": "markdown",
   "id": "f151483c",
   "metadata": {},
   "source": [
    "In this notebook, we will use the Treebank dataset to train an HMM model capable of anotating a given text with its Part-of-Speech (POS) tags first. Then we use this same model to generate text. Treebank is a dataset maintained by the University of Pennsylvania with over four million and eight hundred thousand annotated words in it."
   ]
  },
  {
   "cell_type": "code",
   "execution_count": 1,
   "id": "ad687517",
   "metadata": {},
   "outputs": [],
   "source": [
    "import nltk, re, pprint\n",
    "import numpy as np\n",
    "import pandas as pd\n",
    "import requests\n",
    "import matplotlib.pyplot as plt\n",
    "import seaborn as sns\n",
    "import pprint, time\n",
    "import random\n",
    "from sklearn.model_selection import train_test_split\n",
    "from nltk.tokenize import word_tokenize\n",
    "\n",
    "random.seed(123456)"
   ]
  },
  {
   "cell_type": "code",
   "execution_count": 2,
   "id": "a5f2c40c",
   "metadata": {},
   "outputs": [
    {
     "name": "stderr",
     "output_type": "stream",
     "text": [
      "[nltk_data] Downloading package treebank to\n",
      "[nltk_data]     C:\\Users\\Owner\\AppData\\Roaming\\nltk_data...\n",
      "[nltk_data]   Package treebank is already up-to-date!\n"
     ]
    },
    {
     "data": {
      "text/plain": [
       "True"
      ]
     },
     "execution_count": 2,
     "metadata": {},
     "output_type": "execute_result"
    }
   ],
   "source": [
    "nltk.download('treebank')"
   ]
  },
  {
   "cell_type": "markdown",
   "id": "d979b82e",
   "metadata": {},
   "source": [
    "## Load and prepare data"
   ]
  },
  {
   "cell_type": "markdown",
   "id": "6d247f4a",
   "metadata": {},
   "source": [
    "Let's load the treebank dataset"
   ]
  },
  {
   "cell_type": "code",
   "execution_count": 3,
   "id": "cc22e1bb",
   "metadata": {},
   "outputs": [
    {
     "name": "stdout",
     "output_type": "stream",
     "text": [
      "[('Mr.', 'NNP'), ('Vinken', 'NNP'), ('is', 'VBZ'), ('chairman', 'NN'), ('of', 'IN'), ('Elsevier', 'NNP'), ('N.V.', 'NNP'), (',', ','), ('the', 'DT'), ('Dutch', 'NNP'), ('publishing', 'VBG'), ('group', 'NN'), ('.', '.')]\n"
     ]
    }
   ],
   "source": [
    "wsj = list(nltk.corpus.treebank.tagged_sents())\n",
    "print(wsj[1])"
   ]
  },
  {
   "cell_type": "markdown",
   "id": "83a6e81f",
   "metadata": {},
   "source": [
    "Splitting into train and test"
   ]
  },
  {
   "cell_type": "code",
   "execution_count": 4,
   "id": "bdb115e4",
   "metadata": {},
   "outputs": [
    {
     "name": "stdout",
     "output_type": "stream",
     "text": [
      "2739\n",
      "1175\n"
     ]
    }
   ],
   "source": [
    "train_set, test_set = train_test_split(wsj,test_size=0.3)\n",
    "\n",
    "print(len(train_set))\n",
    "print(len(test_set))"
   ]
  },
  {
   "cell_type": "markdown",
   "id": "f1238859",
   "metadata": {},
   "source": [
    "We will loop over each sentence and the words in a sentence to get a list of the (word,tag) tuples:"
   ]
  },
  {
   "cell_type": "code",
   "execution_count": 5,
   "id": "ef497ce2",
   "metadata": {},
   "outputs": [
    {
     "data": {
      "text/plain": [
       "70756"
      ]
     },
     "execution_count": 5,
     "metadata": {},
     "output_type": "execute_result"
    }
   ],
   "source": [
    "train_tagged_words = [tup for sent in train_set for tup in sent]\n",
    "len(train_tagged_words)"
   ]
  },
  {
   "cell_type": "markdown",
   "id": "898e76dd",
   "metadata": {},
   "source": [
    "Let's generate the set of words (vocabulary):"
   ]
  },
  {
   "cell_type": "code",
   "execution_count": 6,
   "id": "7667c7ae",
   "metadata": {},
   "outputs": [
    {
     "name": "stdout",
     "output_type": "stream",
     "text": [
      "Number of wordsin the vocabulary:  10170\n"
     ]
    }
   ],
   "source": [
    "tokens = [pair[0] for pair in train_tagged_words]\n",
    "V = set(tokens)\n",
    "print(\"Number of wordsin the vocabulary: \",len(V))\n"
   ]
  },
  {
   "cell_type": "markdown",
   "id": "a21b6559",
   "metadata": {},
   "source": [
    "Let's generate the set of POS tags:"
   ]
  },
  {
   "cell_type": "code",
   "execution_count": 7,
   "id": "f5bb8ea1",
   "metadata": {},
   "outputs": [
    {
     "name": "stdout",
     "output_type": "stream",
     "text": [
      "Total tags:  46\n"
     ]
    }
   ],
   "source": [
    "T = set([pair[1] for pair in train_tagged_words])\n",
    "print(\"Total tags: \",len(T))"
   ]
  },
  {
   "cell_type": "markdown",
   "id": "a766391b",
   "metadata": {},
   "source": [
    "## Generating the Emission Matrix\n",
    "Now let's generate the emission matrix"
   ]
  },
  {
   "cell_type": "markdown",
   "id": "24eee815",
   "metadata": {},
   "source": [
    "First we will count the number of times each tag-word pair appears in the corpus:"
   ]
  },
  {
   "cell_type": "code",
   "execution_count": 8,
   "id": "7bccaf96",
   "metadata": {},
   "outputs": [],
   "source": [
    "from collections import defaultdict\n",
    "\n",
    "tag_word_count_map=defaultdict(int)\n",
    "for pair in train_tagged_words:\n",
    "    tag_word_count_map[pair]+=1"
   ]
  },
  {
   "cell_type": "code",
   "execution_count": 9,
   "id": "b0f9f901",
   "metadata": {},
   "outputs": [
    {
     "data": {
      "text/plain": [
       "1"
      ]
     },
     "execution_count": 9,
     "metadata": {},
     "output_type": "execute_result"
    }
   ],
   "source": [
    "tag_word_count_map[('African', 'JJ')]"
   ]
  },
  {
   "cell_type": "markdown",
   "id": "267404e1",
   "metadata": {},
   "source": [
    "Below, we sum the total number of words observed for each tag. we will use this to normalize the numbers to probablilites:"
   ]
  },
  {
   "cell_type": "code",
   "execution_count": 10,
   "id": "e51b7649",
   "metadata": {},
   "outputs": [],
   "source": [
    "tag_words_total_count=defaultdict(int)\n",
    "for pair in tag_word_count_map.keys():\n",
    "    tag_words_total_count[pair[1]]+=tag_word_count_map[pair]"
   ]
  },
  {
   "cell_type": "code",
   "execution_count": 11,
   "id": "feaff966",
   "metadata": {},
   "outputs": [
    {
     "data": {
      "text/plain": [
       "5756"
      ]
     },
     "execution_count": 11,
     "metadata": {},
     "output_type": "execute_result"
    }
   ],
   "source": [
    "tag_words_total_count['DT']"
   ]
  },
  {
   "cell_type": "markdown",
   "id": "232053af",
   "metadata": {},
   "source": [
    "in the final step, we will generate an emission dict. For each tag as a key in the dict we have a dict of words and their probablities:"
   ]
  },
  {
   "cell_type": "code",
   "execution_count": 12,
   "id": "b52c7028",
   "metadata": {},
   "outputs": [],
   "source": [
    "emission_probs_map=defaultdict(lambda : defaultdict(int))\n",
    "for pair in tag_word_count_map.keys():\n",
    "    emission_probs_map[pair[1]][pair[0]]+=(tag_word_count_map[pair]/tag_words_total_count[pair[1]])"
   ]
  },
  {
   "cell_type": "code",
   "execution_count": 15,
   "id": "da016531",
   "metadata": {},
   "outputs": [
    {
     "data": {
      "text/plain": [
       "defaultdict(int,\n",
       "            {'the': 0.4947880472550382,\n",
       "             'a': 0.22915218902015289,\n",
       "             'no': 0.009555246699096595,\n",
       "             'This': 0.004517025712300208,\n",
       "             'an': 0.03717859624739402,\n",
       "             'these': 0.006949270326615705,\n",
       "             'each': 0.004517025712300208,\n",
       "             'neither': 0.0010423905489923557,\n",
       "             'The': 0.08756080611535788,\n",
       "             'those': 0.0064280750521195276,\n",
       "             'A': 0.012334954829742877,\n",
       "             'this': 0.0236275191104934,\n",
       "             'That': 0.005038220986796386,\n",
       "             'Some': 0.001911049339819319,\n",
       "             'any': 0.013377345378735233,\n",
       "             'An': 0.002258512856150104,\n",
       "             'that': 0.009728978457261988,\n",
       "             'some': 0.014940931202223767,\n",
       "             'another': 0.005211952744961779,\n",
       "             'every': 0.002432244614315497,\n",
       "             'Each': 0.001389854065323141,\n",
       "             'All': 0.0015635858234885338,\n",
       "             'These': 0.0026059763724808893,\n",
       "             'all': 0.00990271021542738,\n",
       "             'del': 0.00017373175816539263,\n",
       "             'both': 0.004343293954134816,\n",
       "             'half': 0.0010423905489923557,\n",
       "             'No': 0.0012161223071577485,\n",
       "             'Those': 0.0010423905489923557,\n",
       "             'Neither': 0.00034746351633078526,\n",
       "             'Another': 0.0008686587908269632,\n",
       "             'THE': 0.00034746351633078526,\n",
       "             'Both': 0.0010423905489923557,\n",
       "             'AN': 0.00017373175816539263,\n",
       "             'Any': 0.00034746351633078526,\n",
       "             'either': 0.0005211952744961779,\n",
       "             'la': 0.00017373175816539263,\n",
       "             'Every': 0.00034746351633078526})"
      ]
     },
     "execution_count": 15,
     "metadata": {},
     "output_type": "execute_result"
    }
   ],
   "source": [
    "emission_probs_map['DT']"
   ]
  },
  {
   "cell_type": "markdown",
   "id": "478efaae",
   "metadata": {},
   "source": [
    "## Generating the Transition Matrix"
   ]
  },
  {
   "cell_type": "markdown",
   "id": "52047e97",
   "metadata": {},
   "source": [
    "We will create a t by t transition matrix of tags. tags_matrix(i, j) represents P(tj given ti):"
   ]
  },
  {
   "cell_type": "code",
   "execution_count": 18,
   "id": "9c4f5e0b",
   "metadata": {},
   "outputs": [
    {
     "name": "stdout",
     "output_type": "stream",
     "text": [
      "(150, 4085)\n"
     ]
    }
   ],
   "source": [
    "\n",
    "def t2_given_t1(t2, t1, train_bag = train_tagged_words):\n",
    "    tags = [pair[1] for pair in train_bag]\n",
    "    count_t1 = len([t for t in tags if t==t1])\n",
    "    count_t2_t1 = 0\n",
    "    for index in range(len(tags)-1):\n",
    "        if tags[index]==t1 and tags[index+1] == t2:\n",
    "            count_t2_t1 += 1\n",
    "    return (count_t2_t1, count_t1)\n",
    "\n",
    "# examples\n",
    "print(t2_given_t1(t2='NNP', t1='JJ'))\n"
   ]
  },
  {
   "cell_type": "code",
   "execution_count": 19,
   "id": "33d07cfb",
   "metadata": {},
   "outputs": [],
   "source": [
    "tags_matrix = np.zeros((len(T), len(T)), dtype='float32')\n",
    "for i, t1 in enumerate(list(T)):\n",
    "    for j, t2 in enumerate(list(T)): \n",
    "        tags_matrix[i, j] = t2_given_t1(t2, t1)[0]/t2_given_t1(t2, t1)[1]\n"
   ]
  },
  {
   "cell_type": "code",
   "execution_count": 20,
   "id": "b096eeb3",
   "metadata": {},
   "outputs": [],
   "source": [
    "# convert the matrix to a df\n",
    "tags_df = pd.DataFrame(tags_matrix, columns = list(T), index=list(T))\n",
    "tags_df = tags_df.astype('float64')"
   ]
  },
  {
   "cell_type": "code",
   "execution_count": 21,
   "id": "83e5bc6c",
   "metadata": {},
   "outputs": [],
   "source": [
    "#normalize the values so that each row sums up to 1\n",
    "tags_df_normalized=tags_df.div(tags_df.sum(axis=1), axis=0)\n"
   ]
  },
  {
   "cell_type": "code",
   "execution_count": 22,
   "id": "e76c2543",
   "metadata": {},
   "outputs": [
    {
     "data": {
      "image/png": "[encoded data removed]",
      "text/plain": [
       "<Figure size 1800x1200 with 2 Axes>"
      ]
     },
     "metadata": {},
     "output_type": "display_data"
    }
   ],
   "source": [
    "# heatmap of tags matrix\n",
    "# T(i, j) means P(tag j given tag i)\n",
    "plt.figure(figsize=(18, 12))\n",
    "sns.heatmap(tags_df)\n",
    "plt.show()"
   ]
  },
  {
   "cell_type": "markdown",
   "id": "cf56f225",
   "metadata": {},
   "source": [
    "## Text Generation"
   ]
  },
  {
   "cell_type": "markdown",
   "id": "12a64af4",
   "metadata": {},
   "source": [
    "We will generate a dict showing the possible words for each POS tag to be used in our text generation algorithm below"
   ]
  },
  {
   "cell_type": "code",
   "execution_count": 23,
   "id": "4511e0d4",
   "metadata": {},
   "outputs": [],
   "source": [
    "observations={}\n",
    "for tup in train_tagged_words:\n",
    "    if not tup[1] in observations:\n",
    "        observations[tup[1]]=[tup[0]]\n",
    "    else:\n",
    "        observations[tup[1]].append(tup[0])\n",
    "\n",
    "        \n",
    "for tag,words in observations.items():\n",
    "    words_set = set(words)\n",
    "    unique_words = (list(words_set))\n",
    "    observations[tag]=unique_words\n",
    "                   "
   ]
  },
  {
   "cell_type": "code",
   "execution_count": 24,
   "id": "8fc3c8f1",
   "metadata": {},
   "outputs": [
    {
     "data": {
      "text/plain": [
       "['neither',\n",
       " 'Every',\n",
       " 'Those',\n",
       " 'either',\n",
       " 'This',\n",
       " 'a',\n",
       " 'each',\n",
       " 'These',\n",
       " 'THE',\n",
       " 'That',\n",
       " 'Each',\n",
       " 'The',\n",
       " 'Any',\n",
       " 'an',\n",
       " 'del',\n",
       " 'both',\n",
       " 'Both',\n",
       " 'no',\n",
       " 'All',\n",
       " 'the',\n",
       " 'Neither',\n",
       " 'Another',\n",
       " 'any',\n",
       " 'those',\n",
       " 'every',\n",
       " 'An',\n",
       " 'another',\n",
       " 'AN',\n",
       " 'No',\n",
       " 'Some',\n",
       " 'these',\n",
       " 'all',\n",
       " 'la',\n",
       " 'A',\n",
       " 'half',\n",
       " 'this',\n",
       " 'that',\n",
       " 'some']"
      ]
     },
     "execution_count": 24,
     "metadata": {},
     "output_type": "execute_result"
    }
   ],
   "source": [
    "observations['DT']"
   ]
  },
  {
   "cell_type": "markdown",
   "id": "286c437c",
   "metadata": {},
   "source": [
    "The text generation function below starts from a random pos tag provided as input to and tries to compelete a text with the given length as the second input:"
   ]
  },
  {
   "cell_type": "code",
   "execution_count": 35,
   "id": "e4812ea2",
   "metadata": {},
   "outputs": [],
   "source": [
    "def generate_text(start_tag,length):\n",
    "    states=list(T)\n",
    "    sequence = []\n",
    "    state_sequence = []\n",
    "\n",
    "    # Choose initial state\n",
    "    current_state = start_tag\n",
    "    state_sequence.append(current_state)\n",
    "\n",
    "    # Generate a sequence of the specified length \n",
    "    for _ in range(length):\n",
    "        # Generate an observation\n",
    "        current_observation = np.random.choice(observations[current_state], p=[emission_probs_map[current_state][k] for k in observations[current_state]])\n",
    "        sequence.append(current_observation)\n",
    "        \n",
    "        # Transition to the next state\n",
    "        probs=[ tags_df_normalized.loc[current_state, s] for s in states]\n",
    "        current_state = np.random.choice(states,p=probs )\n",
    "        state_sequence.append(current_state)\n",
    "    \n",
    "    return ' '.join(sequence), state_sequence"
   ]
  },
  {
   "cell_type": "code",
   "execution_count": 36,
   "id": "64a11a96",
   "metadata": {},
   "outputs": [
    {
     "name": "stdout",
     "output_type": "stream",
     "text": [
      "Generated sentence: this plaintiffs -- than a December Charles , were 0 to Sheep , dollar test on dusty % , and did its period , Owner Express shares that critics in Congress made York , a national month *T*-4 to 4.5 instance . since Gulf , were * to use a municipal sensitivity -RRB- : the EST Miami President York Coleman , increased pretax killings that the new plan 's Federal resolution , and problem , '' When psychiatric reaction pressures of $ 1990 65 inefficiencies , the substantial basis and Department Diamond Patrick bonds far world about Group Wall ,\n",
      "State sequence: ['DT', 'NNS', ':', 'IN', 'DT', 'NNP', 'NNP', ',', 'VBD', '-NONE-', 'TO', 'NNP', ',', 'NN', 'NN', 'IN', 'JJ', 'NN', ',', 'CC', 'VBD', 'PRP$', 'NN', ',', 'NNP', 'NNP', 'NNS', 'IN', 'NNS', 'IN', 'NNP', 'VBD', 'NNP', ',', 'DT', 'JJ', 'NN', '-NONE-', 'TO', 'CD', 'NN', '.', 'IN', 'NNP', ',', 'VBD', '-NONE-', 'TO', 'VB', 'DT', 'JJ', 'NN', '-RRB-', ':', 'DT', 'NNP', 'NNP', 'NNP', 'NNP', 'NNP', ',', 'VBD', 'JJ', 'NNS', 'IN', 'DT', 'JJ', 'NN', 'POS', 'JJ', 'NN', ',', 'CC', 'NN', ',', \"''\", 'WRB', 'JJ', 'NN', 'NNS', 'IN', '$', 'CD', 'CD', 'NNS', ',', 'DT', 'JJ', 'NN', 'CC', 'NNP', 'NNP', 'NNP', 'NNS', 'JJ', 'NN', 'IN', 'NNP', 'NNP', ',', 'RB']\n"
     ]
    }
   ],
   "source": [
    "# Generate a sentence of length 5\n",
    "sentence, state_sequence = generate_text('DT',100)\n",
    "print(\"Generated sentence:\", sentence)\n",
    "print(\"State sequence:\", state_sequence)"
   ]
  },
  {
   "cell_type": "code",
   "execution_count": null,
   "id": "e0158107",
   "metadata": {},
   "outputs": [],
   "source": []
  }
 ],
 "metadata": {
  "kernelspec": {
   "display_name": "Python 3 (ipykernel)",
   "language": "python",
   "name": "python3"
  },
  "language_info": {
   "codemirror_mode": {
    "name": "ipython",
    "version": 3
   },
   "file_extension": ".py",
   "mimetype": "text/x-python",
   "name": "python",
   "nbconvert_exporter": "python",
   "pygments_lexer": "ipython3",
   "version": "3.11.5"
  }
 },
 "nbformat": 4,
 "nbformat_minor": 5
}
