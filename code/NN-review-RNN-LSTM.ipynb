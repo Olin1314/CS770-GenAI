{
 "cells": [
  {
   "cell_type": "markdown",
   "id": "e107e095",
   "metadata": {},
   "source": [
    "# Spam Detection Using LSTM\n",
    "In this Demo, we will train deep learning models to classify sms messages as spam or non-spam. We will use the UCI SMS Spam Collection Data Set: https://archive.ics.uci.edu/ml/datasets/SMS+Spam+Collection"
   ]
  },
  {
   "cell_type": "code",
   "execution_count": 39,
   "id": "b6494602",
   "metadata": {},
   "outputs": [],
   "source": [
    "import pandas as pd\n",
    "import matplotlib.pyplot as plt\n",
    "import itertools\n",
    "import numpy as np\n",
    "import nltk\n",
    "import string\n",
    "import re\n",
    "from sklearn.model_selection import train_test_split\n",
    "import nltk\n",
    "from nltk.tokenize import word_tokenize\n",
    "from nltk.stem import WordNetLemmatizer\n",
    "from nltk.corpus import stopwords\n",
    "\n",
    "\n",
    "%matplotlib inline"
   ]
  },
  {
   "cell_type": "markdown",
   "id": "a328cb1c",
   "metadata": {},
   "source": [
    "## Loading the Dataset\n",
    "The SMS Spam Collection is a public set of SMS labeled messages, the target column is either spam or ham."
   ]
  },
  {
   "cell_type": "code",
   "execution_count": 40,
   "id": "fd97faf8",
   "metadata": {},
   "outputs": [
    {
     "data": {
      "text/html": [
       "<div>\n",
       "<style scoped>\n",
       "    .dataframe tbody tr th:only-of-type {\n",
       "        vertical-align: middle;\n",
       "    }\n",
       "\n",
       "    .dataframe tbody tr th {\n",
       "        vertical-align: top;\n",
       "    }\n",
       "\n",
       "    .dataframe thead th {\n",
       "        text-align: right;\n",
       "    }\n",
       "</style>\n",
       "<table border=\"1\" class=\"dataframe\">\n",
       "  <thead>\n",
       "    <tr style=\"text-align: right;\">\n",
       "      <th></th>\n",
       "      <th>label</th>\n",
       "      <th>body_text</th>\n",
       "    </tr>\n",
       "  </thead>\n",
       "  <tbody>\n",
       "    <tr>\n",
       "      <th>0</th>\n",
       "      <td>ham</td>\n",
       "      <td>Ok lar... Joking wif u oni...</td>\n",
       "    </tr>\n",
       "    <tr>\n",
       "      <th>1</th>\n",
       "      <td>spam</td>\n",
       "      <td>Free entry in 2 a wkly comp to win FA Cup fina...</td>\n",
       "    </tr>\n",
       "    <tr>\n",
       "      <th>2</th>\n",
       "      <td>ham</td>\n",
       "      <td>U dun say so early hor... U c already then say...</td>\n",
       "    </tr>\n",
       "    <tr>\n",
       "      <th>3</th>\n",
       "      <td>ham</td>\n",
       "      <td>Nah I don't think he goes to usf, he lives aro...</td>\n",
       "    </tr>\n",
       "    <tr>\n",
       "      <th>4</th>\n",
       "      <td>spam</td>\n",
       "      <td>FreeMsg Hey there darling it's been 3 week's n...</td>\n",
       "    </tr>\n",
       "    <tr>\n",
       "      <th>5</th>\n",
       "      <td>ham</td>\n",
       "      <td>Even my brother is not like to speak with me. ...</td>\n",
       "    </tr>\n",
       "    <tr>\n",
       "      <th>6</th>\n",
       "      <td>ham</td>\n",
       "      <td>As per your request 'Melle Melle (Oru Minnamin...</td>\n",
       "    </tr>\n",
       "    <tr>\n",
       "      <th>7</th>\n",
       "      <td>spam</td>\n",
       "      <td>WINNER!! As a valued network customer you have...</td>\n",
       "    </tr>\n",
       "    <tr>\n",
       "      <th>8</th>\n",
       "      <td>spam</td>\n",
       "      <td>Had your mobile 11 months or more? U R entitle...</td>\n",
       "    </tr>\n",
       "    <tr>\n",
       "      <th>9</th>\n",
       "      <td>ham</td>\n",
       "      <td>I'm gonna be home soon and i don't want to tal...</td>\n",
       "    </tr>\n",
       "  </tbody>\n",
       "</table>\n",
       "</div>"
      ],
      "text/plain": [
       "  label                                          body_text\n",
       "0   ham                      Ok lar... Joking wif u oni...\n",
       "1  spam  Free entry in 2 a wkly comp to win FA Cup fina...\n",
       "2   ham  U dun say so early hor... U c already then say...\n",
       "3   ham  Nah I don't think he goes to usf, he lives aro...\n",
       "4  spam  FreeMsg Hey there darling it's been 3 week's n...\n",
       "5   ham  Even my brother is not like to speak with me. ...\n",
       "6   ham  As per your request 'Melle Melle (Oru Minnamin...\n",
       "7  spam  WINNER!! As a valued network customer you have...\n",
       "8  spam  Had your mobile 11 months or more? U R entitle...\n",
       "9   ham  I'm gonna be home soon and i don't want to tal..."
      ]
     },
     "execution_count": 40,
     "metadata": {},
     "output_type": "execute_result"
    }
   ],
   "source": [
    "column_names = ['label', 'body_text']\n",
    "raw_data = pd.read_csv('./data/SMSSpamCollection.csv', encoding = \"ISO-8859-1\",sep='\\t')\n",
    "raw_data.columns = column_names\n",
    "# raw_data = raw_data.sample(frac=1.0)\n",
    "raw_data.head(n=10)"
   ]
  },
  {
   "cell_type": "markdown",
   "id": "a03a9ed0",
   "metadata": {},
   "source": [
    "## Preprocessing\n",
    "Here, we apply preporcesing steps like tokenizing, stop word removal, lematization and etc."
   ]
  },
  {
   "cell_type": "code",
   "execution_count": 41,
   "id": "291cf374",
   "metadata": {},
   "outputs": [
    {
     "name": "stderr",
     "output_type": "stream",
     "text": [
      "/var/folders/8v/lk7x_15d4rz139p6ddryvcvr0000gn/T/ipykernel_48905/3544028164.py:3: FutureWarning: The default value of regex will change from True to False in a future version.\n",
      "  raw_data['body_text'] = raw_data['body_text'].str.replace('[^\\w\\s]','')\n"
     ]
    }
   ],
   "source": [
    "\n",
    "raw_data['body_text'] = raw_data['body_text'].str.lower()\n",
    "#remove all charcters that are not whitespace or alphanumeric\n",
    "raw_data['body_text'] = raw_data['body_text'].str.replace('[^\\w\\s]','')\n",
    "#remove numbers\n",
    "raw_data['body_text'] = raw_data['body_text'].replace('\\d', '', regex=True)\n",
    "\n",
    "raw_data['body_text'] = raw_data['body_text'].apply(lambda x : word_tokenize(x))\n",
    "\n",
    "stop_words = set(stopwords.words('english')+ list(string.punctuation))\n",
    "raw_data['body_text'] = raw_data['body_text'].apply(lambda x : [w for w in x if not w in stop_words])\n",
    "\n",
    "wordnet_lemmatizer = WordNetLemmatizer()\n",
    "raw_data['body_text'] = raw_data['body_text'].apply(lambda x : [wordnet_lemmatizer.lemmatize(w) for w in x ])\n",
    "\n",
    "raw_data['body_text'] = raw_data['body_text'].apply(lambda x : ' '.join(x))"
   ]
  },
  {
   "cell_type": "code",
   "execution_count": 42,
   "id": "9f290903",
   "metadata": {},
   "outputs": [
    {
     "data": {
      "text/html": [
       "<div>\n",
       "<style scoped>\n",
       "    .dataframe tbody tr th:only-of-type {\n",
       "        vertical-align: middle;\n",
       "    }\n",
       "\n",
       "    .dataframe tbody tr th {\n",
       "        vertical-align: top;\n",
       "    }\n",
       "\n",
       "    .dataframe thead th {\n",
       "        text-align: right;\n",
       "    }\n",
       "</style>\n",
       "<table border=\"1\" class=\"dataframe\">\n",
       "  <thead>\n",
       "    <tr style=\"text-align: right;\">\n",
       "      <th></th>\n",
       "      <th>label</th>\n",
       "      <th>body_text</th>\n",
       "    </tr>\n",
       "  </thead>\n",
       "  <tbody>\n",
       "    <tr>\n",
       "      <th>0</th>\n",
       "      <td>ham</td>\n",
       "      <td>ok lar joking wif u oni</td>\n",
       "    </tr>\n",
       "    <tr>\n",
       "      <th>1</th>\n",
       "      <td>spam</td>\n",
       "      <td>free entry wkly comp win fa cup final tkts st ...</td>\n",
       "    </tr>\n",
       "    <tr>\n",
       "      <th>2</th>\n",
       "      <td>ham</td>\n",
       "      <td>u dun say early hor u c already say</td>\n",
       "    </tr>\n",
       "    <tr>\n",
       "      <th>3</th>\n",
       "      <td>ham</td>\n",
       "      <td>nah dont think go usf life around though</td>\n",
       "    </tr>\n",
       "    <tr>\n",
       "      <th>4</th>\n",
       "      <td>spam</td>\n",
       "      <td>freemsg hey darling week word back id like fun...</td>\n",
       "    </tr>\n",
       "    <tr>\n",
       "      <th>5</th>\n",
       "      <td>ham</td>\n",
       "      <td>even brother like speak treat like aid patent</td>\n",
       "    </tr>\n",
       "    <tr>\n",
       "      <th>6</th>\n",
       "      <td>ham</td>\n",
       "      <td>per request melle melle oru minnaminunginte nu...</td>\n",
       "    </tr>\n",
       "    <tr>\n",
       "      <th>7</th>\n",
       "      <td>spam</td>\n",
       "      <td>winner valued network customer selected receiv...</td>\n",
       "    </tr>\n",
       "    <tr>\n",
       "      <th>8</th>\n",
       "      <td>spam</td>\n",
       "      <td>mobile month u r entitled update latest colour...</td>\n",
       "    </tr>\n",
       "    <tr>\n",
       "      <th>9</th>\n",
       "      <td>ham</td>\n",
       "      <td>im gon na home soon dont want talk stuff anymo...</td>\n",
       "    </tr>\n",
       "  </tbody>\n",
       "</table>\n",
       "</div>"
      ],
      "text/plain": [
       "  label                                          body_text\n",
       "0   ham                            ok lar joking wif u oni\n",
       "1  spam  free entry wkly comp win fa cup final tkts st ...\n",
       "2   ham                u dun say early hor u c already say\n",
       "3   ham           nah dont think go usf life around though\n",
       "4  spam  freemsg hey darling week word back id like fun...\n",
       "5   ham      even brother like speak treat like aid patent\n",
       "6   ham  per request melle melle oru minnaminunginte nu...\n",
       "7  spam  winner valued network customer selected receiv...\n",
       "8  spam  mobile month u r entitled update latest colour...\n",
       "9   ham  im gon na home soon dont want talk stuff anymo..."
      ]
     },
     "execution_count": 42,
     "metadata": {},
     "output_type": "execute_result"
    }
   ],
   "source": [
    "raw_data.head(n=10)"
   ]
  },
  {
   "cell_type": "code",
   "execution_count": 43,
   "id": "7fcc3442",
   "metadata": {},
   "outputs": [
    {
     "name": "stdout",
     "output_type": "stream",
     "text": [
      "Max number of words =  80\n"
     ]
    }
   ],
   "source": [
    "length_of_the_messages = raw_data['body_text'].str.split(\" \")\n",
    "print(\"Max number of words = \", length_of_the_messages.str.len().max())\n"
   ]
  },
  {
   "cell_type": "markdown",
   "id": "0621f770",
   "metadata": {},
   "source": [
    "## Preparing Input vectors\n",
    "Here, we will convert the text data into numerical format. We use keras tokenizer to convert words to integers. Keras tokenizer internally creates a dictionary/vocabulary, the index ordering is based on the frequency of the word (lower integers mean more frequent words). Finally, it replaces each word in the text with its index number from  the vocabulary. Sequences that are shorter than max length specified are padded with zeros.\n",
    "\n",
    "The labels will be encoded to categorical numbers using LabelEncoder. \n"
   ]
  },
  {
   "cell_type": "code",
   "execution_count": 44,
   "id": "b2980274",
   "metadata": {},
   "outputs": [],
   "source": [
    "from keras.preprocessing.text import Tokenizer \n",
    "from keras.preprocessing.sequence import pad_sequences\n",
    "from keras.models import Sequential \n",
    "from keras.layers import Embedding, SimpleRNN, LSTM, GRU, Dense\n",
    "from sklearn.preprocessing import LabelEncoder\n",
    "from sklearn import preprocessing\n",
    "import time\n",
    "from keras.preprocessing import sequence\n",
    "from tensorflow.keras.utils import to_categorical\n",
    "from keras.callbacks import EarlyStopping\n",
    "from keras.layers import Flatten\n",
    "\n",
    "le=LabelEncoder()\n",
    "raw_data['label']=le.fit_transform( raw_data['label'])\n",
    "\n",
    "x = raw_data['body_text']\n",
    "y = raw_data['label']\n",
    "\n",
    "x_train,x_test,y_train,y_test=train_test_split(x,y,test_size=0.2,random_state=20)\n",
    "\n",
    "\n",
    "max_words=1000\n",
    "max_len=80\n",
    "\n",
    "token=Tokenizer(num_words=max_words)\n",
    "token.fit_on_texts(raw_data['body_text'])\n",
    "\n",
    "sequences=token.texts_to_sequences(x_train)\n",
    "sequences_metrix=sequence.pad_sequences(sequences,padding='post',maxlen=max_len)\n",
    "\n",
    "\n",
    "# process test data\n",
    "test_sequences = token.texts_to_sequences(x_test)\n",
    "test_sequences_matrix = sequence.pad_sequences(test_sequences,padding='post',maxlen=max_len)\n",
    "\n",
    "\n"
   ]
  },
  {
   "cell_type": "code",
   "execution_count": 1,
   "id": "a085b47a",
   "metadata": {},
   "outputs": [
    {
     "ename": "NameError",
     "evalue": "name 'sequences_metrix' is not defined",
     "output_type": "error",
     "traceback": [
      "\u001b[0;31m---------------------------------------------------------------------------\u001b[0m",
      "\u001b[0;31mNameError\u001b[0m                                 Traceback (most recent call last)",
      "Input \u001b[0;32mIn [1]\u001b[0m, in \u001b[0;36m<cell line: 1>\u001b[0;34m()\u001b[0m\n\u001b[0;32m----> 1\u001b[0m \u001b[43msequences_metrix\u001b[49m[\u001b[38;5;241m1\u001b[39m]\n",
      "\u001b[0;31mNameError\u001b[0m: name 'sequences_metrix' is not defined"
     ]
    }
   ],
   "source": [
    "sequences_metrix[1]"
   ]
  },
  {
   "cell_type": "markdown",
   "id": "9629daa5",
   "metadata": {},
   "source": [
    "## Training the Model\n",
    "We will train an LSTM model with an embeding layer at the front to convert the integer vectors from the previous section to custom word emebedings for this task. Word embeddings are low-dimensional floating-point vectors (dense vectors) as opposed to sparse vectors obtained from one-hot-encoding. For this example, we will Learn word embeddings from scratch by adding an embeding layer at the begining of our neural network. This layer takes 2D integer tensors of shape (samples, sequence_length). We also have to specify two arguments for the embeding layer: the number of possible tokens and the dimensionality of the embeddings.  \n",
    "\n",
    "In contrast to other types of neural networks like convolutional neural networks,  RNNs have memory.  This means that every input element is processed independently with no relation to other elements. But, an RNN network keeps information about what it has read so for from a sequence which is very useful in processing text since we need to know the previous words so far to make sense of the text.\n"
   ]
  },
  {
   "cell_type": "code",
   "execution_count": 45,
   "id": "66b3c09a",
   "metadata": {},
   "outputs": [
    {
     "name": "stdout",
     "output_type": "stream",
     "text": [
      "Model: \"sequential_2\"\n",
      "_________________________________________________________________\n",
      " Layer (type)                Output Shape              Param #   \n",
      "=================================================================\n",
      " embedding_2 (Embedding)     (None, 80, 50)            50000     \n",
      "                                                                 \n",
      " lstm_2 (LSTM)               (None, 80, 100)           60400     \n",
      "                                                                 \n",
      " flatten_2 (Flatten)         (None, 8000)              0         \n",
      "                                                                 \n",
      " hl1 (Dense)                 (None, 200)               1600200   \n",
      "                                                                 \n",
      " hl2 (Dense)                 (None, 100)               20100     \n",
      "                                                                 \n",
      " ol (Dense)                  (None, 1)                 101       \n",
      "                                                                 \n",
      "=================================================================\n",
      "Total params: 1,730,801\n",
      "Trainable params: 1,730,801\n",
      "Non-trainable params: 0\n",
      "_________________________________________________________________\n"
     ]
    }
   ],
   "source": [
    "model=Sequential()\n",
    "\n",
    "#embeding layer\n",
    "model.add(Embedding(max_words,50,input_length=max_len,trainable=True))\n",
    "\n",
    "# lstm layer\n",
    "model.add(LSTM(100,return_sequences=True,dropout=0.5))\n",
    "model.add(Flatten()) \n",
    "\n",
    "# Dense layer\n",
    "model.add(Dense(200,activation='relu',name='hl1')) \n",
    "model.add(Dense(100,activation='relu',name='hl2')) \n",
    "model.add(Dense(1,activation='sigmoid',name='ol'))\n",
    "    \n",
    "# loss function, metrics, optimizer\n",
    "model.compile(optimizer='adam', loss='binary_crossentropy',metrics=[\"accuracy\"])\n",
    "\n",
    "es = EarlyStopping(monitor='val_loss', mode='auto', verbose=1,patience=3)\n",
    "\n",
    "model.summary()"
   ]
  },
  {
   "cell_type": "code",
   "execution_count": 46,
   "id": "0c3826cc",
   "metadata": {},
   "outputs": [
    {
     "name": "stdout",
     "output_type": "stream",
     "text": [
      "Epoch 1/20\n",
      "24/24 [==============================] - 13s 403ms/step - loss: 0.3873 - accuracy: 0.8611 - val_loss: 0.2831 - val_accuracy: 0.8655\n",
      "Epoch 2/20\n",
      "24/24 [==============================] - 10s 425ms/step - loss: 0.1491 - accuracy: 0.9377 - val_loss: 0.0733 - val_accuracy: 0.9809\n",
      "Epoch 3/20\n",
      "24/24 [==============================] - 8s 343ms/step - loss: 0.0588 - accuracy: 0.9823 - val_loss: 0.0584 - val_accuracy: 0.9821\n",
      "Epoch 4/20\n",
      "24/24 [==============================] - 9s 390ms/step - loss: 0.0391 - accuracy: 0.9865 - val_loss: 0.0517 - val_accuracy: 0.9821\n",
      "Epoch 5/20\n",
      "24/24 [==============================] - 8s 314ms/step - loss: 0.0269 - accuracy: 0.9913 - val_loss: 0.0869 - val_accuracy: 0.9821\n",
      "Epoch 6/20\n",
      "24/24 [==============================] - 9s 364ms/step - loss: 0.0200 - accuracy: 0.9919 - val_loss: 0.0702 - val_accuracy: 0.9821\n",
      "Epoch 7/20\n",
      "24/24 [==============================] - 8s 322ms/step - loss: 0.0184 - accuracy: 0.9944 - val_loss: 0.0492 - val_accuracy: 0.9843\n",
      "Epoch 8/20\n",
      "24/24 [==============================] - 7s 298ms/step - loss: 0.0136 - accuracy: 0.9955 - val_loss: 0.0467 - val_accuracy: 0.9888\n",
      "Epoch 9/20\n",
      "24/24 [==============================] - 8s 346ms/step - loss: 0.0107 - accuracy: 0.9972 - val_loss: 0.0562 - val_accuracy: 0.9899\n",
      "Epoch 10/20\n",
      "24/24 [==============================] - 8s 351ms/step - loss: 0.0101 - accuracy: 0.9964 - val_loss: 0.0483 - val_accuracy: 0.9854\n",
      "Epoch 11/20\n",
      "24/24 [==============================] - 8s 324ms/step - loss: 0.0089 - accuracy: 0.9972 - val_loss: 0.0533 - val_accuracy: 0.9877\n",
      "Epoch 00011: early stopping\n"
     ]
    }
   ],
   "source": [
    "# Train model\n",
    "history=model.fit(sequences_metrix,y_train,batch_size=150,epochs=20,callbacks=[es],validation_split=0.2,verbose=1)"
   ]
  },
  {
   "cell_type": "markdown",
   "id": "67d696da",
   "metadata": {},
   "source": [
    "## Evaluation"
   ]
  },
  {
   "cell_type": "code",
   "execution_count": 56,
   "id": "bd01c899",
   "metadata": {},
   "outputs": [
    {
     "name": "stdout",
     "output_type": "stream",
     "text": [
      "140/140 [==============================] - 5s 36ms/step - loss: 0.0135 - accuracy: 0.9969\n",
      "35/35 [==============================] - 1s 26ms/step - loss: 0.1411 - accuracy: 0.9731\n"
     ]
    }
   ],
   "source": [
    "# evaluate model\n",
    "train_acc=model.evaluate(sequences_metrix,y_train,verbose=1) # train dataset evaluate\n",
    "test_acc=model.evaluate(test_sequences_matrix,y_test,verbose=1) # test dataset evaluate"
   ]
  },
  {
   "cell_type": "code",
   "execution_count": 53,
   "id": "1dc06fde",
   "metadata": {},
   "outputs": [
    {
     "name": "stdout",
     "output_type": "stream",
     "text": [
      "Loss:0.013 and Accuracy:0.997\n"
     ]
    }
   ],
   "source": [
    "print(\"Loss:{:.3f} and Accuracy:{:.3f}\".format(train_acc[0],train_acc[1])) # train dataset Loss and Accurancy"
   ]
  },
  {
   "cell_type": "code",
   "execution_count": 54,
   "id": "acd0b076",
   "metadata": {},
   "outputs": [
    {
     "name": "stdout",
     "output_type": "stream",
     "text": [
      "Loss:0.141 and Accuracy:0.973\n"
     ]
    }
   ],
   "source": [
    "print(\"Loss:{:.3f} and Accuracy:{:.3f}\".format(test_acc[0],test_acc[1])) # test dataset Loss and Accurancy"
   ]
  },
  {
   "cell_type": "code",
   "execution_count": 55,
   "id": "a9c02888",
   "metadata": {},
   "outputs": [
    {
     "data": {
      "image/png": "[encoded data removed]",
      "text/plain": [
       "<Figure size 432x288 with 1 Axes>"
      ]
     },
     "metadata": {
      "needs_background": "light"
     },
     "output_type": "display_data"
    }
   ],
   "source": [
    "# plot convergence curve \n",
    "plt.plot(history.history['accuracy'], label='train')\n",
    "plt.plot(history.history['val_accuracy'], label='test')\n",
    "plt.legend()\n",
    "plt.show()"
   ]
  },
  {
   "cell_type": "code",
   "execution_count": null,
   "id": "0ff7a019",
   "metadata": {},
   "outputs": [],
   "source": []
  }
 ],
 "metadata": {
  "kernelspec": {
   "display_name": "Python 3 (ipykernel)",
   "language": "python",
   "name": "python3"
  },
  "language_info": {
   "codemirror_mode": {
    "name": "ipython",
    "version": 3
   },
   "file_extension": ".py",
   "mimetype": "text/x-python",
   "name": "python",
   "nbconvert_exporter": "python",
   "pygments_lexer": "ipython3",
   "version": "3.11.5"
  }
 },
 "nbformat": 4,
 "nbformat_minor": 5
}
